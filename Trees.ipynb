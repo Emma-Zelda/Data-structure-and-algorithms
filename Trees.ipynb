{
 "cells": [
  {
   "cell_type": "markdown",
   "metadata": {},
   "source": [
    "# Trees\n",
    "#### Last modified on: May 21, 2019\n",
    "#### Author: Emma Teng"
   ]
  },
  {
   "cell_type": "markdown",
   "metadata": {},
   "source": [
    "## Basics\n",
    "\n",
    "Trees are just extensions of linked list. \n",
    "- The first element is called **Root** and instead of having one next element, a tree can have several. \n",
    "- The individual elements in a tree that contain values are often called **nodes**.\n",
    "\n",
    "Requirements for being a tree:\n",
    "- completely connected, which means if we start from the node, there must be some way to reach every node in the tree.\n",
    "- there must not be any cycles in the tree. A cycle occurs when there's a way for you to encounter the same node twice, even with one direction line.\n",
    "\n",
    "## Terminology\n",
    "\n",
    "- `Level`: how many connections it takes to reach the root plus one. eg, root is level 1.\n",
    "- `Parent & child`: a node at a lower level is a parent, a node at a higher level is a child. A node can be both parent and child, which depends on what node it's being compared  to.\n",
    "- Children are allowed to have one parent.\n",
    "- `Leaves/external nodes`: the nodes at the end that don't have any children\n",
    "- `internal nodes`: parent nodes\n",
    "- `connections`: edges\n",
    "- `path`: a group of connections\n",
    "- `height` of a node: the number of edges between the node and the furthest leaves in the tree. eg. the leaf has a height of 0 while  the parent of the leaf has a height of 1.\n",
    "- `depth` of a node: the number of edges to the root. `height` and `depth` should move inversely.\n",
    "\n",
    "## Tree Traversal\n",
    "\n",
    "Trees aren't linear, so there's no clear way to traverse through everything. Two main ways to traverse a tree:\n",
    "- **DFS**: depth-first search, which child has the priority to be traversed.\n",
    "- **BFS**: breadth-first search. The priority is visiting every node on the same level we're currently on before visiting child nodes.\n",
    "\n",
    "**Level Order BFS**: BFS based on level order. By convention, we start on the left most side of the level and move right.\n",
    "\n",
    "## DFS\n",
    "\n",
    "There are several different approaches to DFS and trees.\n",
    "- **Pre-order Traversals**: check off a node as we see it before we traverse any further in the tree. (left child first, right side next).\n",
    "- **In-order Traversals**: left child first -> node next -> right side the last.\n",
    "- **Post-order Traversals**: left child first -> right child next -> node the last.\n",
    "\n",
    "## Search and Delete for Binary Trees\n",
    "\n",
    "**Binary Trees**: parents have at most two children, which means 0, 1 or 2 children.\n",
    "\n",
    "- Search in Binary Tree: the worst case requires to traverse all nodes, $O(n)$.\n",
    "- Delete in Binary Tree: search first $O(n)$, then:\n",
    "    - if it's a leaf, simply remove it\n",
    "    - if it's an internal node with one child: just move the child up under the deleted node's parent\n",
    "    - if it's an internal node with several children, maybe promote one child up.\n",
    "    \n",
    "## Insert for Binary Trees\n",
    "\n",
    "Inserting an element into our tree when it has no order is relatively easy. We only need to guarantee the two children rule. The worst case to find an open spot in the tree is that we travel down the longest path until we find the farthest leaf. In that case, we will travel through the number of nodes equal to the height of the tree.\n",
    "\n",
    "**Perfect Trees**: every node except the leaves on the last level has two children.\n",
    "- Nodes in level $i$: $2^(i-1)$ (Level 1: $2^0 = 1$, Level 2: $2^1 = 2$, Level 3: $2^2 = 4$...)\n",
    "- By adding a new level, we are adding roughly twice as many elements. The 'roughtly' is due to the root element. Therefore, the depth of a perfect tree is about $O(log(n)$\n",
    "\n",
    "## Binary Search Trees\n",
    "\n",
    "BSTs rules:\n",
    "- every parent has most 2 children\n",
    "- left child < node < right child, which is easy for seaching. The run time of searching and inserting on a BST is just the height of the tree, which is $O(log(n))$.\n",
    "- The worst case scenario for a BST is the **unbalanced** tree. For example, 5->10->15->20, totally skewed to the right side. In this case, search, insert & delete all actually take linear time $O(n)$ in the worst case, $O(log(n))$ in the average case."
   ]
  },
  {
   "cell_type": "code",
   "execution_count": null,
   "metadata": {},
   "outputs": [],
   "source": []
  },
  {
   "cell_type": "code",
   "execution_count": null,
   "metadata": {},
   "outputs": [],
   "source": []
  },
  {
   "cell_type": "code",
   "execution_count": null,
   "metadata": {},
   "outputs": [],
   "source": []
  },
  {
   "cell_type": "code",
   "execution_count": null,
   "metadata": {},
   "outputs": [],
   "source": []
  },
  {
   "cell_type": "code",
   "execution_count": null,
   "metadata": {},
   "outputs": [],
   "source": []
  }
 ],
 "metadata": {
  "kernelspec": {
   "display_name": "Python 3",
   "language": "python",
   "name": "python3"
  },
  "language_info": {
   "codemirror_mode": {
    "name": "ipython",
    "version": 3
   },
   "file_extension": ".py",
   "mimetype": "text/x-python",
   "name": "python",
   "nbconvert_exporter": "python",
   "pygments_lexer": "ipython3",
   "version": "3.7.1"
  }
 },
 "nbformat": 4,
 "nbformat_minor": 2
}
