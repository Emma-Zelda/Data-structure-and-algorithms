{
 "cells": [
  {
   "cell_type": "markdown",
   "metadata": {},
   "source": [
    "# Lecture 3 How to solve problems"
   ]
  },
  {
   "cell_type": "markdown",
   "metadata": {},
   "source": [
    "#### Last modified on: May 06, 2019\n",
    "#### Author: Emma Teng"
   ]
  },
  {
   "cell_type": "markdown",
   "metadata": {},
   "source": [
    "**Pythononista's Guide to All Problems in the Galaxy**\n",
    "\n",
    "0. Don't Panic!\n",
    "1. What are the inputs?\n",
    "2. What are the outputs?\n",
    "3. Work through some examples by hand\n",
    "4. Simple mechanical solution\n",
    "5. Develop incrementally and test as we go.\n",
    "\n",
    "**Don't optimize prematively**: The simpler solution it is, the more likely it will be correct."
   ]
  },
  {
   "cell_type": "markdown",
   "metadata": {},
   "source": [
    "## Problem description"
   ]
  },
  {
   "cell_type": "markdown",
   "metadata": {},
   "source": [
    "- Calculate the number of days between two dates. \n",
    "- Be ware of leap years."
   ]
  },
  {
   "cell_type": "markdown",
   "metadata": {},
   "source": [
    "## 1st version"
   ]
  },
  {
   "cell_type": "markdown",
   "metadata": {},
   "source": [
    "Algorithm psedocode:"
   ]
  },
  {
   "cell_type": "markdown",
   "metadata": {},
   "source": [
    "    days = # of days in month1 - day1 eg: 31-24 = 7\n",
    "    month1 += 1\n",
    "    while month1 < month2:\n",
    "        days += # of days in month1\n",
    "        month1 += 1\n",
    "    days += day2\n",
    "    \n",
    "    while year1 < year2:\n",
    "        days += days in year1"
   ]
  },
  {
   "cell_type": "markdown",
   "metadata": {},
   "source": [
    "The above code is not good enough for implementation, because it doesn't handle well with:\n",
    "    - input dates in same month\n",
    "    - month2 < month 1, year2 > year1\n",
    "    - counting days for leap years"
   ]
  },
  {
   "cell_type": "markdown",
   "metadata": {},
   "source": [
    "## A simpler mechanical algorithm\n"
   ]
  },
  {
   "cell_type": "markdown",
   "metadata": {},
   "source": [
    "This method is simply counting on days:"
   ]
  },
  {
   "cell_type": "markdown",
   "metadata": {},
   "source": [
    "    days = 0\n",
    "    while date1 is before date2:\n",
    "        date1 = advance to next day\n",
    "        days += 1"
   ]
  },
  {
   "cell_type": "markdown",
   "metadata": {},
   "source": [
    "**Question**: How long will it take a Python program using this approach to count days for a hundred years?"
   ]
  },
  {
   "cell_type": "markdown",
   "metadata": {},
   "source": [
    "For a hundred years, roughly $100\\times 365 = 36500$ days.\n",
    "\n",
    "For a modern processor, it can take 1 billion ($10^9$) instructions per second, which means 1 nanosecond ($10^{-9}$ second) per instruction.\n",
    "\n",
    "Assuming 1000 instructions for each loop, this gives us $36500 \\times 1000 = 36.5M$ instructions total, which takes program 36.5 millisecond (0.036 second)."
   ]
  },
  {
   "cell_type": "markdown",
   "metadata": {},
   "source": [
    "## Define Simple nextDay"
   ]
  },
  {
   "cell_type": "markdown",
   "metadata": {},
   "source": [
    "Define a simple nextDay procedure, that assumes every month has 30 days.\n",
    "\n",
    "For example:\n",
    "    \n",
    "    nextDay(1999, 12, 30) => (2000, 1, 1)\n",
    "    nextDay(2013, 1, 30) => (2013, 2, 1)\n",
    "    nextDay(2012, 12, 30) => (2013, 1, 1) (even though Decemeber really has 31 days)"
   ]
  },
  {
   "cell_type": "code",
   "execution_count": 2,
   "metadata": {},
   "outputs": [
    {
     "name": "stdout",
     "output_type": "stream",
     "text": [
      "(2000, 1, 1)\n",
      "(2013, 2, 1)\n",
      "(2013, 1, 1)\n"
     ]
    }
   ],
   "source": [
    "def nextDay(year, month, day):\n",
    "    \"\"\"\n",
    "    Returns the year, month, day of the next day.\n",
    "    Simple version: assume every month has 30 days.\n",
    "    \"\"\"\n",
    "    # YOUR CODE HERE\n",
    "    \n",
    "    if day == 30 and month == 12:\n",
    "        year += 1\n",
    "        month = 1\n",
    "        day = 1\n",
    "    elif day == 30:\n",
    "        month += 1\n",
    "        day = 1\n",
    "    else:\n",
    "        day += 1\n",
    "    return (year, month, day)\n",
    "    \n",
    "print(nextDay(1999, 12, 30))\n",
    "print(nextDay(2013, 1, 30))\n",
    "print(nextDay(2012, 12, 30))"
   ]
  },
  {
   "cell_type": "markdown",
   "metadata": {},
   "source": [
    "The below is the solution from the lecture:"
   ]
  },
  {
   "cell_type": "code",
   "execution_count": 5,
   "metadata": {},
   "outputs": [
    {
     "name": "stdout",
     "output_type": "stream",
     "text": [
      "(2000, 1, 1)\n",
      "(2013, 2, 1)\n",
      "(2013, 1, 1)\n"
     ]
    }
   ],
   "source": [
    "def nextDay(year, month, day):\n",
    "    \"\"\"\n",
    "    Warning: this version incorrectly assumes all months have 30 days!\n",
    "    \"\"\"\n",
    "    if day < 30:\n",
    "        return year, month, day + 1\n",
    "    else:\n",
    "        if month < 12:\n",
    "            return year, month + 1, 1\n",
    "        else:\n",
    "            return year + 1, 1, 1\n",
    "\n",
    "print(nextDay(1999, 12, 30))\n",
    "print(nextDay(2013, 1, 30))\n",
    "print(nextDay(2012, 12, 30))"
   ]
  },
  {
   "cell_type": "markdown",
   "metadata": {},
   "source": [
    "## Define daysBetweenDates"
   ]
  },
  {
   "cell_type": "markdown",
   "metadata": {},
   "source": [
    "Define an (approximate) **daysBetweenDates** procedure that would produce the correct resutls given a correct **nextDay** procedure."
   ]
  },
  {
   "cell_type": "code",
   "execution_count": 7,
   "metadata": {},
   "outputs": [
    {
     "name": "stdout",
     "output_type": "stream",
     "text": [
      "Test case passed!\n",
      "Test case passed!\n",
      "Test case passed!\n"
     ]
    }
   ],
   "source": [
    "# Define a daysBetweenDates procedure that would produce the\n",
    "# correct output if there was a correct nextDay procedure.\n",
    "#\n",
    "# Note that this will NOT produce correct outputs yet, since\n",
    "# our nextDay procedure assumes all months have 30 days\n",
    "# (hence a year is 360 days, instead of 365).\n",
    "# \n",
    "\n",
    "def nextDay(year, month, day):\n",
    "    \"\"\"Simple version: assume every month has 30 days\"\"\"\n",
    "    if day < 30:\n",
    "        return year, month, day + 1\n",
    "    else:\n",
    "        if month == 12:\n",
    "            return year + 1, 1, 1\n",
    "        else:\n",
    "            return year, month + 1, 1\n",
    "        \n",
    "def daysBetweenDates(year1, month1, day1, year2, month2, day2):\n",
    "    \"\"\"Returns the number of days between year1/month1/day1\n",
    "       and year2/month2/day2. Assumes inputs are valid dates\n",
    "       in Gregorian calendar, and the first date is not after\n",
    "       the second.\"\"\"\n",
    "        \n",
    "    # YOUR CODE HERE!\n",
    "    days = 0\n",
    "    \n",
    "    while year1 != year2 or month1 != month2 or day1!= day2 :\n",
    "        (year1, month1, day1) = nextDay(year1, month1, day1)\n",
    "        days += 1\n",
    "        \n",
    "    return days\n",
    "\n",
    "def test():\n",
    "    test_cases = [((2012,9,30,2012,10,30),30), \n",
    "                  ((2012,1,1,2013,1,1),360),\n",
    "                  ((2012,9,1,2012,9,4),3)]\n",
    "    \n",
    "    for (args, answer) in test_cases:\n",
    "        result = daysBetweenDates(*args)\n",
    "        if result != answer:\n",
    "            print (\"Test with data:\", args, \"failed\")\n",
    "        else:\n",
    "            print (\"Test case passed!\")\n",
    "\n",
    "test()"
   ]
  },
  {
   "cell_type": "markdown",
   "metadata": {},
   "source": [
    "## Solution in Three Parts"
   ]
  },
  {
   "cell_type": "markdown",
   "metadata": {},
   "source": [
    "The solution to this problem is broken into three parts:\n",
    "\n",
    "1. Step One: Pseudocode\n",
    "2. Step Two: Helper Function\n",
    "3. Step Three: daysBetweendates"
   ]
  },
  {
   "cell_type": "markdown",
   "metadata": {},
   "source": [
    "### Step One: Pseudocode"
   ]
  },
  {
   "cell_type": "markdown",
   "metadata": {},
   "source": [
    "days = 0\n",
    "\n",
    "while date1 is before date2:  **# use a helper function instead of combining into nextDay function (def dateIsBefore(year1, month1, day1, year2, month2, days)), which returns True or False**\n",
    "\n",
    "    date1 = advance to next day  **# nextDay function**\n",
    "    \n",
    "    days += 1\n",
    "return days"
   ]
  },
  {
   "cell_type": "markdown",
   "metadata": {},
   "source": [
    "### Step Two: Helper Function"
   ]
  },
  {
   "cell_type": "code",
   "execution_count": 9,
   "metadata": {},
   "outputs": [],
   "source": [
    "def dateIsBefore(year1, month1, day1, year2, month2, day2):\n",
    "    \"\"\"\n",
    "    Returns True if year1-month1-day1 is before year1-month1-day2.\n",
    "    Otherwise, returns False\n",
    "    \"\"\"\n",
    "    if year1 < year2:\n",
    "        return True\n",
    "    if year1 == year2:\n",
    "        if month1 < month2:\n",
    "            return True\n",
    "        if month1 == month2:\n",
    "            return day1 < day2\n",
    "    return False"
   ]
  },
  {
   "cell_type": "markdown",
   "metadata": {},
   "source": [
    "### Step Three: daysBetweendates"
   ]
  },
  {
   "cell_type": "code",
   "execution_count": 14,
   "metadata": {},
   "outputs": [
    {
     "name": "stdout",
     "output_type": "stream",
     "text": [
      "155\n",
      "36000\n",
      "0\n"
     ]
    }
   ],
   "source": [
    "def daysBetweenDates(year1, month1, day1, year2, month2, day2):\n",
    "    \"\"\"Returns the number of days between year1/month1/day1\n",
    "       and year2/month2/day2. Assumes inputs are valid dates\n",
    "       in Gregorian calendar, and the first date is not after\n",
    "       the second.\"\"\"\n",
    "    days = 0\n",
    "    \n",
    "    while dateIsBefore(year1, month1, day1, year2, month2, day2):\n",
    "        year1, month1, day1 = nextDay(year1, month1, day1)\n",
    "        days += 1\n",
    "        \n",
    "    return days\n",
    "\n",
    "print(daysBetweenDates(2013, 1, 24, 2013, 6, 29)) # not exactly correct because we assume 30 days for all months\n",
    "print(daysBetweenDates(1912, 12, 12, 2012, 12, 12))\n",
    "print(daysBetweenDates(2013, 1, 1, 2012, 12, 20)) # date2 is before date1"
   ]
  },
  {
   "cell_type": "markdown",
   "metadata": {},
   "source": [
    "## Test for Valid Inputs\n",
    "Instead of returning 0, we should give an assertion failure when the inputs are invalid."
   ]
  },
  {
   "cell_type": "code",
   "execution_count": 16,
   "metadata": {},
   "outputs": [
    {
     "name": "stdout",
     "output_type": "stream",
     "text": [
      "Test case passed!\n",
      "Test case passed!\n",
      "Test case passed!\n",
      "Nice job! Test case (2013, 1, 1, 1999, 12, 31) correctly raises AssertionError!\n",
      "\n"
     ]
    }
   ],
   "source": [
    "# Program defensively:\n",
    "#\n",
    "# What do you do if your input is invalid? For example what should\n",
    "# happen when date 1 is not before date 2?\n",
    "#\n",
    "# Add an assertion to the code for daysBetweenDates to give\n",
    "# an assertion failure when the inputs are invalid. This should\n",
    "# occur when the first date is not before the second date.\n",
    "#  \n",
    "def daysBetweenDates(year1, month1, day1, year2, month2, day2):\n",
    "    \"\"\"Returns the number of days between year1/month1/day1\n",
    "       and year2/month2/day2. Assumes inputs are valid dates\n",
    "       in Gregorian calendar.\"\"\"\n",
    "    \n",
    "    # program defensively! Add an assertion if the input is not valid!\n",
    "    assert not dateIsBefore(year2, month2, day2, year1, month1, day1)\n",
    "    \n",
    "    days = 0\n",
    "    while dateIsBefore(year1, month1, day1, year2, month2, day2):\n",
    "        year1, month1, day1 = nextDay(year1, month1, day1)\n",
    "        days += 1\n",
    "    return days\n",
    "\n",
    "def test():\n",
    "    test_cases = [((2012,9,30,2012,10,30),30), \n",
    "                  ((2012,1,1,2013,1,1),360),\n",
    "                  ((2012,9,1,2012,9,4),3),\n",
    "                  ((2013,1,1,1999,12,31), \"AssertionError\")]\n",
    "    \n",
    "    for (args, answer) in test_cases:\n",
    "        try:\n",
    "            result = daysBetweenDates(*args)\n",
    "            if result == answer and answer != \"AssertionError\":\n",
    "                print (\"Test case passed!\")\n",
    "            else:\n",
    "                print (\"Test with data:\", args, \"failed\")\n",
    "    \n",
    "        except AssertionError:\n",
    "            if answer == \"AssertionError\":\n",
    "                print (\"Nice job! Test case {0} correctly raises AssertionError!\\n\".format(args))\n",
    "            else:\n",
    "                print (\"Check your work! Test case {0} should not raise AssertionError!\\n\".format(args) )           \n",
    "test()"
   ]
  },
  {
   "cell_type": "markdown",
   "metadata": {},
   "source": [
    "## Real World Problem\n",
    "Not all months have 30 days!!!!"
   ]
  },
  {
   "cell_type": "markdown",
   "metadata": {},
   "source": [
    "## Completing the Problem"
   ]
  },
  {
   "cell_type": "code",
   "execution_count": 25,
   "metadata": {},
   "outputs": [
    {
     "name": "stdout",
     "output_type": "stream",
     "text": [
      "Test finished.\n"
     ]
    }
   ],
   "source": [
    "def isLeapYear(year):\n",
    "    if year % 400 == 0:\n",
    "        return True\n",
    "    if year % 100 == 0:\n",
    "        return False\n",
    "    if year % 4 == 0:\n",
    "        return True\n",
    "    return False\n",
    "\n",
    "def daysInMonth(year, month):\n",
    "    # if month in (1, 3, 5, 7, 8, 10, 12)\n",
    "    if month == 1 or month == 3 or month == 5 or month == 7\\\n",
    "    or month == 8 or month == 10 or month == 12:\n",
    "        return 31\n",
    "    else:\n",
    "        if month == 2:\n",
    "            if isLeapYear(year):\n",
    "                return 29\n",
    "            else: \n",
    "                return 28\n",
    "        else:\n",
    "            return 30\n",
    "\n",
    "def nextDay(year, month, day):\n",
    "    \n",
    "    if day < daysInMonth(year, month):\n",
    "        return year, month, day + 1\n",
    "    else:\n",
    "        if month == 12:\n",
    "            return year + 1, 1, 1\n",
    "        else:\n",
    "            return year, month + 1, 1\n",
    "        \n",
    "def daysBetweenDates(year1, month1, day1, year2, month2, day2):\n",
    "    \"\"\"Returns the number of days between year1/month1/day1\n",
    "       and year2/month2/day2. Assumes inputs are valid dates\n",
    "       in Gregorian calendar.\"\"\"\n",
    "    \n",
    "    # program defensively! Add an assertion if the input is not valid!\n",
    "    assert not dateIsBefore(year2, month2, day2, year1, month1, day1)\n",
    "    \n",
    "    days = 0\n",
    "    while dateIsBefore(year1, month1, day1, year2, month2, day2):\n",
    "        year1, month1, day1 = nextDay(year1, month1, day1)\n",
    "        days += 1\n",
    "    return days\n",
    "\n",
    "def test():\n",
    "    # tests with 30-day months\n",
    "    assert daysBetweenDates(2013, 1, 1, 2013, 1, 1) == 0\n",
    "    assert daysBetweenDates(2013, 1, 1, 2013, 1, 2) == 1\n",
    "    assert nextDay(2013, 1, 1) == (2013, 1, 2)\n",
    "    assert nextDay(2013, 4, 30) == (2013, 5, 1)\n",
    "    assert nextDay(2012, 12, 31) == (2013, 1, 1)\n",
    "    assert nextDay(2013, 2, 28) == (2013, 3, 1)\n",
    "    assert nextDay(2013, 9, 30) == (2013, 10, 1) # 30 days a month\n",
    "    assert nextDay(2012, 2, 28) == (2012, 2, 29) # leap year \n",
    "    \n",
    "    assert daysBetweenDates(2013, 1, 1, 2014, 1, 1) == 365 # non-leap year\n",
    "    assert daysBetweenDates(2012, 1, 1, 2013, 1, 1) == 366 # leap year\n",
    "    \n",
    "    assert daysBetweenDates(2013, 1, 24, 2013, 6, 29) == 156\n",
    "    \n",
    "    print(\"Test finished.\")\n",
    "\n",
    "test()"
   ]
  }
 ],
 "metadata": {
  "kernelspec": {
   "display_name": "Python 3",
   "language": "python",
   "name": "python3"
  },
  "language_info": {
   "codemirror_mode": {
    "name": "ipython",
    "version": 3
   },
   "file_extension": ".py",
   "mimetype": "text/x-python",
   "name": "python",
   "nbconvert_exporter": "python",
   "pygments_lexer": "ipython3",
   "version": "3.6.5"
  }
 },
 "nbformat": 4,
 "nbformat_minor": 2
}
