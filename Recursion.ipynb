{
 "cells": [
  {
   "cell_type": "markdown",
   "metadata": {},
   "source": [
    "# Recursion\n",
    "#### Last modified on: May 18, 2019\n",
    "#### Author: Emma Teng"
   ]
  },
  {
   "cell_type": "markdown",
   "metadata": {},
   "source": [
    "## Introduction\n",
    "With recursion, we solve a problem by first *solving smaller instances of the same problem*. In practice, this often involves calling a function from within itself—in other words, we feed some input into the function, and the function produces some output—which we then feed back into the same function. And we continue to do this until we arrive at the solution.\n",
    "\n",
    "**Recursion is like a while loop, it stops when it hits some exit condition.** \n",
    "\n",
    "A simple example:"
   ]
  },
  {
   "cell_type": "code",
   "execution_count": 3,
   "metadata": {},
   "outputs": [
    {
     "name": "stdout",
     "output_type": "stream",
     "text": [
      "0\n",
      "0\n"
     ]
    }
   ],
   "source": [
    "def recursive(input):\n",
    "    \"\"\"\n",
    "    This function doesn't actually do anything, but it's a nice example to show how recursion works\n",
    "    \"\"\"\n",
    "    if input <= 0: # base case, like the exit condition\n",
    "        return input\n",
    "    else:\n",
    "        output = recursive(input -1)\n",
    "        return output\n",
    "    \n",
    "    \n",
    "# test\n",
    "print(recursive(0))\n",
    "print(recursive(2))"
   ]
  },
  {
   "cell_type": "markdown",
   "metadata": {},
   "source": [
    "- Base case: like the exit function. Without base case, we will stuck in **infinite recursion**.\n",
    "- input parameter needs to change during iteration, otherwise infinite recursion.\n",
    "\n"
   ]
  },
  {
   "cell_type": "markdown",
   "metadata": {},
   "source": [
    "### Gotchas\n",
    "\n",
    "- **Call Stack** is a stack data structure that stores information about the active subroutines of a computer program. Python has a limit on the depth of recursion to prevent a stack overflow. Once exceeds, there will be an error `Recursion Error: maximum recursion depth exceeded in comparison`.\n",
    "\n",
    "- **Slicing** during recursion can be high time complexity and space complexity. For example:"
   ]
  },
  {
   "cell_type": "code",
   "execution_count": null,
   "metadata": {},
   "outputs": [],
   "source": [
    "def sum_array(array):\n",
    "    # Base Case\n",
    "    if len(array) == 1:\n",
    "        return array[0]\n",
    "    \n",
    "    return array[0] + sum_array(array[1:])\n",
    "\n",
    "arr = [1, 2, 3, 4]\n",
    "print(sum_array(arr))"
   ]
  },
  {
   "cell_type": "markdown",
   "metadata": {},
   "source": [
    "This operation will take O($k$) time to run where $k$ is the number of elements to copy. So, this function is actually O($k*n$) running time complexity and O($k*n$) space complexity."
   ]
  },
  {
   "cell_type": "markdown",
   "metadata": {},
   "source": [
    "Instead of slicing, we can pass the index for the element that we want to use for addition. That will give us the following function:"
   ]
  },
  {
   "cell_type": "code",
   "execution_count": 1,
   "metadata": {},
   "outputs": [
    {
     "name": "stdout",
     "output_type": "stream",
     "text": [
      "10\n"
     ]
    }
   ],
   "source": [
    "def sum_array_index(array, index):\n",
    "    # Base Cases\n",
    "    if len(array) - 1 == index: # index starts from 0 to len(array) - 1\n",
    "        return array[index]\n",
    "    \n",
    "    return array[index] + sum_array_index(array, index + 1)\n",
    "\n",
    "arr = [1, 2, 3, 4]\n",
    "print(sum_array_index(arr, 0))"
   ]
  },
  {
   "cell_type": "markdown",
   "metadata": {},
   "source": [
    "**Example: Reversing a string by recursion**"
   ]
  },
  {
   "cell_type": "code",
   "execution_count": 2,
   "metadata": {},
   "outputs": [],
   "source": [
    "def reverse_string(input):\n",
    "    \"\"\"\n",
    "    Return reversed input string\n",
    "    \n",
    "    Examples:\n",
    "       reverse_string(\"abc\") returns \"cba\"\n",
    "    \n",
    "    Args:\n",
    "      input(str): string to be reversed\n",
    "    \n",
    "    Returns:\n",
    "      a string that is the reverse of input\n",
    "    \"\"\"\n",
    "    \n",
    "    if len(input) == 0:\n",
    "        return \"\"\n",
    "    \n",
    "    return reverse_string(input[1:]) + input[0]"
   ]
  },
  {
   "cell_type": "code",
   "execution_count": 3,
   "metadata": {},
   "outputs": [
    {
     "name": "stdout",
     "output_type": "stream",
     "text": [
      "Pass\n",
      "Pass\n"
     ]
    }
   ],
   "source": [
    "# Test Cases\n",
    "    \n",
    "print (\"Pass\" if  (\"\" == reverse_string(\"\")) else \"Fail\")\n",
    "print (\"Pass\" if  (\"cba\" == reverse_string(\"abc\")) else \"Fail\")"
   ]
  },
  {
   "cell_type": "markdown",
   "metadata": {},
   "source": [
    "**Example: Checking Palindrome**\n",
    "\n",
    "Palindrome is a word that is the reverse of itself -- that is, it is the same word when read forwards and backwards.\n",
    "\n",
    "For example:\n",
    "*  \"madam\" is a palindrome\n",
    "* \"abba\" is a palindrome\n",
    "*  \"cat\" is not\n",
    "*  \"a\" is a trivial case of a palindrome"
   ]
  },
  {
   "cell_type": "code",
   "execution_count": 4,
   "metadata": {},
   "outputs": [
    {
     "name": "stdout",
     "output_type": "stream",
     "text": [
      "Pass\n",
      "Pass\n",
      "Pass\n",
      "Pass\n",
      "Pass\n"
     ]
    }
   ],
   "source": [
    "def is_palindrome(input):\n",
    "    \"\"\"\n",
    "    Return True if input is palindrome, False otherwise.\n",
    "\n",
    "    Args:\n",
    "       input(str): input to be checked if it is palindrome\n",
    "    \"\"\"\n",
    "    if len(input) <= 1:\n",
    "        return True\n",
    "    else:\n",
    "        first_char = input[0]\n",
    "        last_char = input[-1]\n",
    "\n",
    "        # sub_input is input with first and last char removed\n",
    "        sub_input = input[1:-1]\n",
    "\n",
    "        return (first_char == last_char) and is_palindrome(sub_input)\n",
    "\n",
    "print (\"Pass\" if  (is_palindrome(\"\")) else \"Fail\")\n",
    "print (\"Pass\" if  (is_palindrome(\"a\")) else \"Fail\")\n",
    "print (\"Pass\" if  (is_palindrome(\"madam\")) else \"Fail\")\n",
    "print (\"Pass\" if  (is_palindrome(\"abba\")) else \"Fail\")\n",
    "print (\"Pass\" if not (is_palindrome(\"Udacity\")) else \"Fail\")\n"
   ]
  },
  {
   "cell_type": "markdown",
   "metadata": {},
   "source": [
    "## The Call Stack and Recursion\n",
    "\n",
    "Essentially, a *call stack* is a stack of *frames* that are used for the *functions* that we are calling. When we call a function, say `print_integers(5)`, a *frame* is created in memory. All the variables local to the function are created in this memory frame. And as soon as this frame is created, it's pushed onto the call stack.\n",
    "\n",
    "The frame that lies at the top of the call stack is executed first. And as soon as the function finishes executing, this frame is discarded from the *call stack*. \n",
    "\n",
    "A nice website to visualize functions: http://pythontutor.com/visualize.html#mode=edit, and the stack is displayed in an \"upside down\" manner."
   ]
  },
  {
   "cell_type": "markdown",
   "metadata": {},
   "source": [
    ">Given a positive integer `n`, write a function, `print_integers`, that uses recursion to print all numbers from `n` to `1`. \n",
    ">\n",
    ">For example, if `n` is `4`, the function shuld print `4 3 2 1`. "
   ]
  },
  {
   "cell_type": "code",
   "execution_count": 5,
   "metadata": {},
   "outputs": [],
   "source": [
    "def print_integers(n):\n",
    "    if n <= 0:\n",
    "        return\n",
    "    print(n)\n",
    "    print_integers(n - 1)"
   ]
  },
  {
   "cell_type": "code",
   "execution_count": 6,
   "metadata": {},
   "outputs": [
    {
     "name": "stdout",
     "output_type": "stream",
     "text": [
      "5\n",
      "4\n",
      "3\n",
      "2\n",
      "1\n"
     ]
    }
   ],
   "source": [
    "print_integers(5)"
   ]
  },
  {
   "cell_type": "markdown",
   "metadata": {},
   "source": [
    "the call stack with all the frames would look like this:\n",
    "\n",
    "<img src='./assets/print_func_visualization.png'>"
   ]
  },
  {
   "cell_type": "markdown",
   "metadata": {},
   "source": [
    "We can see that the time complexity of our function `print_integers(n)` is a linear function of $n$. Hence, we can say that the time complexity of the function is $O(n)$."
   ]
  },
  {
   "cell_type": "code",
   "execution_count": null,
   "metadata": {},
   "outputs": [],
   "source": []
  },
  {
   "cell_type": "code",
   "execution_count": null,
   "metadata": {},
   "outputs": [],
   "source": []
  },
  {
   "cell_type": "code",
   "execution_count": null,
   "metadata": {},
   "outputs": [],
   "source": []
  },
  {
   "cell_type": "code",
   "execution_count": null,
   "metadata": {},
   "outputs": [],
   "source": []
  },
  {
   "cell_type": "code",
   "execution_count": null,
   "metadata": {},
   "outputs": [],
   "source": []
  }
 ],
 "metadata": {
  "kernelspec": {
   "display_name": "Python 3",
   "language": "python",
   "name": "python3"
  },
  "language_info": {
   "codemirror_mode": {
    "name": "ipython",
    "version": 3
   },
   "file_extension": ".py",
   "mimetype": "text/x-python",
   "name": "python",
   "nbconvert_exporter": "python",
   "pygments_lexer": "ipython3",
   "version": "3.7.1"
  }
 },
 "nbformat": 4,
 "nbformat_minor": 2
}
