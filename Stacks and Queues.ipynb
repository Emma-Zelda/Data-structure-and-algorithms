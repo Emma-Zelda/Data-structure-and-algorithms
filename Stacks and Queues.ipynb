{
 "cells": [
  {
   "cell_type": "markdown",
   "metadata": {},
   "source": [
    "# Stacks and Queues\n",
    "#### Last modified on: May 17, 2019\n",
    "#### Author: Emma Teng"
   ]
  },
  {
   "cell_type": "markdown",
   "metadata": {},
   "source": [
    "## Stacks\n",
    "\n",
    "Stacks are like pancakes. We keep putting elements on top and we will have easy access to remove or look at the top element. Therefore stacks can be really useful when we only care about the most recent elements. (**L.I.F.O**: last in, first out)\n",
    "\n",
    "Some termonologies:\n",
    "- add an element: `push`\n",
    "- remove an element: `pop`\n",
    "\n",
    "These two operations are only for the top element, time complexity is $O(1)$."
   ]
  },
  {
   "cell_type": "markdown",
   "metadata": {},
   "source": [
    "### 1. Implement a stack using an array\n",
    "\n",
    "A `stack` class should have following behavoirs:\n",
    "\n",
    "1. `push` - adds an item to the top of the stack\n",
    "2. `pop` - removes an item from the top of the stack (and returns the value of that item)\n",
    "3. `size` - returns the size of the stack\n",
    "4. `top` - returns the value of the item at the top of stack (without removing that item)\n",
    "5. `is_empty` - returns `True` if the stack is empty and `False` otherwise"
   ]
  },
  {
   "cell_type": "code",
   "execution_count": 9,
   "metadata": {},
   "outputs": [],
   "source": [
    "class Stack:\n",
    "    \n",
    "    def __init__(self, initial_size = 10):\n",
    "        self.arr = [0 for _ in range(initial_size)] # use array to represent stack\n",
    "        self.next_index = 0 # track where to put the new element\n",
    "        self.num_elements = 0 # size of current stack\n",
    "        \n",
    "    def push(self, data):\n",
    "        if self.next_index == len(self.arr): # check for capacity\n",
    "            print(\"Out of space! Increasing array capacity ...\")\n",
    "            self._handle_stack_capacity_full()\n",
    "        \n",
    "        self.arr[self.next_index] = data\n",
    "        self.next_index += 1\n",
    "        self.num_elements += 1\n",
    "        \n",
    "    def _handle_stack_capacity_full(self): # increase array size before overflow\n",
    "        old_arr = self.arr\n",
    "\n",
    "        self.arr = [0 for _ in range( 2* len(old_arr))] # double current array size\n",
    "        for index, element in enumerate(old_arr):\n",
    "            self.arr[index] = element\n",
    "    \n",
    "    def size(self):\n",
    "        return self.num_elements\n",
    "\n",
    "    def is_empty(self):\n",
    "        return self.num_elements == 0\n",
    "    \n",
    "    def pop(self):\n",
    "        if self.is_empty():\n",
    "            self.next_index = 0\n",
    "            return None\n",
    "        \n",
    "        value = self.arr[self.next_index - 1]\n",
    "        self.arr[self.next_index -1] = 0\n",
    "        self.next_index -=1\n",
    "        self.num_elements -= 1\n",
    "        return value"
   ]
  },
  {
   "cell_type": "code",
   "execution_count": 10,
   "metadata": {},
   "outputs": [
    {
     "name": "stdout",
     "output_type": "stream",
     "text": [
      "['Test!', 0, 0, 0, 0, 0, 0, 0, 0, 0]\n",
      "Pass\n",
      "Out of space! Increasing array capacity ...\n",
      "[1, 2, 3, 4, 5, 6, 7, 8, 9, 10, 11, 0, 0, 0, 0, 0, 0, 0, 0, 0]\n",
      "Pass\n",
      "0\n",
      "True\n",
      "1\n",
      "False\n",
      "Test\n",
      "None\n",
      "[1, 2, 3, 4, 0, 0, 0, 0, 0, 0]\n",
      "[1, 2, 3, 4, 6, 0, 0, 0, 0, 0]\n"
     ]
    }
   ],
   "source": [
    "# Test for push\n",
    "foo = Stack()\n",
    "foo.push(\"Test!\")\n",
    "print(foo.arr)\n",
    "print(\"Pass\" if foo.arr[0] == \"Test!\" else \"Fail\")\n",
    "\n",
    "# test for handling capacity\n",
    "foo = Stack()\n",
    "foo.push(1)\n",
    "foo.push(2)\n",
    "foo.push(3)\n",
    "foo.push(4)\n",
    "foo.push(5)\n",
    "foo.push(6)\n",
    "foo.push(7)\n",
    "foo.push(8)\n",
    "foo.push(9)\n",
    "foo.push(10) # The array is now at capacity!\n",
    "foo.push(11) # This one should cause the array to increase in size\n",
    "print(foo.arr) # Let's see what the array looks like now!\n",
    "print(\"Pass\" if len(foo.arr) == 20 else \"Fail\") # If we successfully doubled the array size, it should now be 20.\n",
    "\n",
    "# test for size and is_empty\n",
    "foo = Stack()\n",
    "print(foo.size()) # Should return 0\n",
    "print(foo.is_empty()) # Should return True\n",
    "foo.push(\"Test\") # Let's push an item onto the stack and check again\n",
    "print(foo.size()) # Should return 1\n",
    "print(foo.is_empty()) # Should return False\n",
    "\n",
    "# test for pop\n",
    "foo = Stack()\n",
    "foo.push(\"Test\") # We first have to push an item so that we'll have something to pop\n",
    "print(foo.pop()) # Should return the popped item, which is \"Test\"\n",
    "print(foo.pop()) # Should return None, since there's nothing left in the stack\n",
    "\n",
    "foo = Stack()\n",
    "foo.push(1)\n",
    "foo.push(2)\n",
    "foo.push(3)\n",
    "foo.push(4)\n",
    "foo.push(5)\n",
    "\n",
    "foo.pop()\n",
    "print(foo.arr)\n",
    "\n",
    "foo.push(6)\n",
    "print(foo.arr)"
   ]
  },
  {
   "cell_type": "markdown",
   "metadata": {},
   "source": [
    "### 2. Implement a stack using a linked list\n",
    "\n",
    "While constructing a stack using an array does work, we saw that it raises some concerns with time complexity. For example, if we exceed the capacity of the array, we have to go through the laborious process of creating a new array and moving over all the elements from the old array.\n",
    "\n",
    "If we use linked lists for stack, new added element should be the head of the linked list, which wiil be easier for `pop` operation."
   ]
  },
  {
   "cell_type": "code",
   "execution_count": null,
   "metadata": {},
   "outputs": [],
   "source": [
    "class Node:\n",
    "    def __init__(self, value):\n",
    "        self.value = value\n",
    "        self.next = None\n",
    "        \n",
    "    def __init__(self):\n",
    "        self.head = None # No items in the stack, so head should be None\n",
    "        self.num_elements = 0 # No items in the stack, so num_elements should be 0\n",
    "    \n",
    "     def push(self, value):\n",
    "        new_node = Node(value)        \n",
    "        # if stack is empty\n",
    "        if self.head is None:\n",
    "            self.head = new_node\n",
    "        else:\n",
    "            new_node.next = self.head # place the new node at the head of the linked list (top) for 'pop' efficiency purpose\n",
    "            self.head = new_node\n",
    "\n",
    "        self.num_elements += 1\n",
    "        \n",
    "    def size(self):\n",
    "        return self.num_elements\n",
    "    \n",
    "    def is_empty(self):\n",
    "        return self.num_elements == 0\n",
    "    \n",
    "    def pop(self):\n",
    "        if self.is_empty():\n",
    "            return None\n",
    "        \n",
    "        value = self.head.value # copy data to a local variable\n",
    "        self.head = self.head.next # move head pointer to point to next node (top is removed by doing so)\n",
    "        self.num_elements -= 1\n",
    "        return value"
   ]
  },
  {
   "cell_type": "code",
   "execution_count": null,
   "metadata": {},
   "outputs": [],
   "source": [
    "# Setup\n",
    "stack = Stack()\n",
    "stack.push(10)\n",
    "stack.push(20)\n",
    "stack.push(30)\n",
    "stack.push(40)\n",
    "stack.push(50)\n",
    "\n",
    "# Test size\n",
    "print (\"Pass\" if (stack.size() == 5) else \"Fail\")\n",
    "\n",
    "# Test pop\n",
    "print (\"Pass\" if (stack.pop() == 50) else \"Fail\")\n",
    "\n",
    "# Test push\n",
    "stack.push(60)\n",
    "print (\"Pass\" if (stack.pop() == 60) else \"Fail\")\n",
    "print (\"Pass\" if (stack.pop() == 40) else \"Fail\")\n",
    "print (\"Pass\" if (stack.pop() == 30) else \"Fail\")\n",
    "stack.push(50)\n",
    "print (\"Pass\" if (stack.size() == 3) else \"Fail\")"
   ]
  },
  {
   "cell_type": "markdown",
   "metadata": {},
   "source": [
    "**Comparison between using array and linked list for stack**:\n",
    "- with linked list implementation, `pop` and `push` have a time complexity of $O(1)$.\n",
    "- Using linked lists avoids the issue of stack overflow when we implemented our stack using an array. In that case, adding an item to the stack was fine—until we ran out of space. Then we would have to create an entirely new (larger) array and copy over all of the references from the old array.\n",
    "- That happened because, with an array, we had to specify some initial size (in other words, we had to set aside a contiguous block of memory in advance). But with a linked list, the nodes do not need to be contiguous. They can be scattered in different locations of memory, an that works just fine. This means that with a linked list, we can simply append as many nodes as we like. Using that as the underlying data structure for our stack means that we never run out of capacity, so pushing and popping items will always have a time complexity of O(1)."
   ]
  },
  {
   "cell_type": "markdown",
   "metadata": {},
   "source": [
    "### 3. Implement a stack using an list"
   ]
  },
  {
   "cell_type": "code",
   "execution_count": 1,
   "metadata": {},
   "outputs": [],
   "source": [
    "class Stack:\n",
    "    def __init__(self):\n",
    "        self.items = []\n",
    "    \n",
    "    def size(self):\n",
    "        return len(self.items)\n",
    "    \n",
    "    def push(self, item):\n",
    "        self.items.append(item)\n",
    "\n",
    "    def pop(self):\n",
    "        if self.size()==0:\n",
    "            return None\n",
    "        else:\n",
    "            return self.items.pop()"
   ]
  },
  {
   "cell_type": "code",
   "execution_count": 2,
   "metadata": {},
   "outputs": [
    {
     "name": "stdout",
     "output_type": "stream",
     "text": [
      "['Web Page 1', 'Web Page 2', 'Web Page 3']\n",
      "Pass\n",
      "Pass\n"
     ]
    }
   ],
   "source": [
    "# test\n",
    "MyStack = Stack()\n",
    "\n",
    "MyStack.push(\"Web Page 1\")\n",
    "MyStack.push(\"Web Page 2\")\n",
    "MyStack.push(\"Web Page 3\")\n",
    "\n",
    "print (MyStack.items)\n",
    "\n",
    "MyStack.pop()\n",
    "MyStack.pop()\n",
    "\n",
    "print (\"Pass\" if (MyStack.items[0] == 'Web Page 1') else \"Fail\")\n",
    "\n",
    "MyStack.pop()\n",
    "\n",
    "print (\"Pass\" if (MyStack.pop() == None) else \"Fail\")"
   ]
  },
  {
   "cell_type": "markdown",
   "metadata": {},
   "source": [
    "## Queues\n",
    "\n",
    "**F.I.F.O** (first in, first out)\n",
    "\n",
    "Termonologies:\n",
    "- `Head`: the first element (oldest element)\n",
    "- `Tail`: the last element (the newest element)\n",
    "- `Enqueue`: add an element to the tail\n",
    "- `Dequeue`: remove the head element\n",
    "- `Peek`: look at the head element without removing it\n",
    "\n",
    "**Deques** (and pronounced as \"deck\") or **double-ended queue** is a queue that goes both ways, which means we can `dequeue` and `enqueue` from both directions. Deques can be considered as a general representation for both stacks and queues.\n",
    "\n",
    "**Priority Queue** assigns a numerical priority to each element when we insert it into the queue. When we dequeue, we remove the element with the highest priority. For two elements wit same priority, the oldest will be removed first."
   ]
  },
  {
   "cell_type": "markdown",
   "metadata": {},
   "source": [
    "### 1. Implement a queue using an array"
   ]
  },
  {
   "cell_type": "code",
   "execution_count": null,
   "metadata": {},
   "outputs": [],
   "source": []
  }
 ],
 "metadata": {
  "kernelspec": {
   "display_name": "Python 3",
   "language": "python",
   "name": "python3"
  },
  "language_info": {
   "codemirror_mode": {
    "name": "ipython",
    "version": 3
   },
   "file_extension": ".py",
   "mimetype": "text/x-python",
   "name": "python",
   "nbconvert_exporter": "python",
   "pygments_lexer": "ipython3",
   "version": "3.7.1"
  }
 },
 "nbformat": 4,
 "nbformat_minor": 2
}
